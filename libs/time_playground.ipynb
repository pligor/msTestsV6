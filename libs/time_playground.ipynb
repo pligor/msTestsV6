{
 "cells": [
  {
   "cell_type": "code",
   "execution_count": 1,
   "metadata": {
    "dotnet_interactive": {
     "language": "csharp"
    },
    "polyglot_notebook": {
     "kernelName": "csharp"
    },
    "vscode": {
     "languageId": "polyglot-notebook"
    }
   },
   "outputs": [
    {
     "data": {
      "text/html": [
       "<div><div></div><div></div><div><strong>Installed Packages</strong><ul><li><span>FluentAssertions, 7.0.0</span></li></ul></div></div>"
      ]
     },
     "metadata": {},
     "output_type": "display_data"
    }
   ],
   "source": [
    "#r \"nuget: FluentAssertions\"\n",
    "using FluentAssertions;"
   ]
  },
  {
   "cell_type": "code",
   "execution_count": 2,
   "metadata": {
    "dotnet_interactive": {
     "language": "csharp"
    },
    "polyglot_notebook": {
     "kernelName": "csharp"
    },
    "vscode": {
     "languageId": "polyglot-notebook"
    }
   },
   "outputs": [
    {
     "data": {
      "text/html": [
       "<span>2024-12-09 22:28:48Z</span>"
      ]
     },
     "metadata": {},
     "output_type": "display_data"
    }
   ],
   "source": [
    "var now = DateTime.Now;\n",
    "var now_utc = DateTime.UtcNow;\n",
    "\n",
    "now_utc.ToLocalTime()"
   ]
  },
  {
   "cell_type": "code",
   "execution_count": 3,
   "metadata": {
    "dotnet_interactive": {
     "language": "csharp"
    },
    "polyglot_notebook": {
     "kernelName": "csharp"
    },
    "vscode": {
     "languageId": "polyglot-notebook"
    }
   },
   "outputs": [
    {
     "data": {
      "text/html": [
       "<span>2024-12-09 20:28:48Z</span>"
      ]
     },
     "metadata": {},
     "output_type": "display_data"
    }
   ],
   "source": [
    "now_utc"
   ]
  },
  {
   "cell_type": "code",
   "execution_count": 11,
   "metadata": {
    "dotnet_interactive": {
     "language": "csharp"
    },
    "polyglot_notebook": {
     "kernelName": "csharp"
    },
    "vscode": {
     "languageId": "polyglot-notebook"
    }
   },
   "outputs": [],
   "source": [
    "string orderDate = \"2024-12-09T21:09:40+02:00\";\n",
    "string invoiceDate = \"2024-12-09T21:10:36+00:00\";\n",
    "string utcNow = \"2024-12-09T20:10:54+00:00\";\n",
    "var oldNow = DateTimeOffset.Parse(utcNow);"
   ]
  },
  {
   "cell_type": "code",
   "execution_count": 5,
   "metadata": {
    "dotnet_interactive": {
     "language": "csharp"
    },
    "polyglot_notebook": {
     "kernelName": "csharp"
    },
    "vscode": {
     "languageId": "polyglot-notebook"
    }
   },
   "outputs": [
    {
     "name": "stdout",
     "output_type": "stream",
     "text": [
      "Offset: 02:00:00\n"
     ]
    }
   ],
   "source": [
    "var dt = DateTimeOffset.Parse(orderDate); // outputs: 2024-12-09 12:30:00Z\n",
    "\n",
    "// Getting the offset\n",
    "TimeSpan offset = dt.Offset;\n",
    "Console.WriteLine($\"Offset: {offset}\"); // Outputs: Offset: 02:00:00"
   ]
  },
  {
   "cell_type": "code",
   "execution_count": 6,
   "metadata": {
    "dotnet_interactive": {
     "language": "csharp"
    },
    "polyglot_notebook": {
     "kernelName": "csharp"
    },
    "vscode": {
     "languageId": "polyglot-notebook"
    }
   },
   "outputs": [],
   "source": [
    "public DateTimeOffset ConvertToAustrianTime(DateTimeOffset dto)\n",
    "{\n",
    "    // Get the original time components, regardless of the offset\n",
    "    var originalDateTime = dto.DateTime;\n",
    "    \n",
    "    // Get Austrian timezone\n",
    "    TimeZoneInfo austrianTimeZone;\n",
    "    try\n",
    "    {\n",
    "        austrianTimeZone = TimeZoneInfo.FindSystemTimeZoneById(\"Central European Standard Time\");\n",
    "    }\n",
    "    catch (TimeZoneNotFoundException)\n",
    "    {\n",
    "        austrianTimeZone = TimeZoneInfo.FindSystemTimeZoneById(\"Europe/Vienna\");\n",
    "    }\n",
    "\n",
    "    // Get the Austrian offset for this specific date/time\n",
    "    TimeSpan austrianOffset = austrianTimeZone.GetUtcOffset(originalDateTime);\n",
    "    \n",
    "    // Create new DateTimeOffset with original time components but Austrian offset\n",
    "    return new DateTimeOffset(originalDateTime, austrianOffset);\n",
    "}"
   ]
  },
  {
   "cell_type": "code",
   "execution_count": 7,
   "metadata": {
    "dotnet_interactive": {
     "language": "csharp"
    },
    "polyglot_notebook": {
     "kernelName": "csharp"
    },
    "vscode": {
     "languageId": "polyglot-notebook"
    }
   },
   "outputs": [],
   "source": [
    "var dt1 = ConvertToAustrianTime(dt);\n",
    "var dt2 = ConvertToAustrianTime(DateTimeOffset.Parse(invoiceDate));"
   ]
  },
  {
   "cell_type": "code",
   "execution_count": 15,
   "metadata": {
    "dotnet_interactive": {
     "language": "csharp"
    },
    "polyglot_notebook": {
     "kernelName": "csharp"
    },
    "vscode": {
     "languageId": "polyglot-notebook"
    }
   },
   "outputs": [
    {
     "data": {
      "text/html": [
       "<span>2024-12-09 20:09:40Z</span>"
      ]
     },
     "metadata": {},
     "output_type": "display_data"
    }
   ],
   "source": [
    "dt1"
   ]
  },
  {
   "cell_type": "code",
   "execution_count": 12,
   "metadata": {
    "dotnet_interactive": {
     "language": "csharp"
    },
    "polyglot_notebook": {
     "kernelName": "csharp"
    },
    "vscode": {
     "languageId": "polyglot-notebook"
    }
   },
   "outputs": [],
   "source": [
    "dt1.Should().BeBefore(oldNow);\n",
    "dt2.Should().BeBefore(oldNow);\n"
   ]
  },
  {
   "cell_type": "code",
   "execution_count": null,
   "metadata": {
    "dotnet_interactive": {
     "language": "csharp"
    },
    "polyglot_notebook": {
     "kernelName": "csharp"
    },
    "vscode": {
     "languageId": "polyglot-notebook"
    }
   },
   "outputs": [],
   "source": []
  }
 ],
 "metadata": {
  "kernelspec": {
   "display_name": ".NET (C#)",
   "language": "C#",
   "name": ".net-csharp"
  },
  "language_info": {
   "name": "python"
  },
  "polyglot_notebook": {
   "kernelInfo": {
    "defaultKernelName": "csharp",
    "items": [
     {
      "aliases": [],
      "name": "csharp"
     }
    ]
   }
  }
 },
 "nbformat": 4,
 "nbformat_minor": 2
}
