{
 "cells": [
  {
   "cell_type": "code",
   "execution_count": 1,
   "metadata": {
    "dotnet_interactive": {
     "language": "csharp"
    },
    "polyglot_notebook": {
     "kernelName": "csharp"
    },
    "vscode": {
     "languageId": "polyglot-notebook"
    }
   },
   "outputs": [
    {
     "data": {
      "text/html": [
       "<div><div></div><div></div><div><strong>Installed Packages</strong><ul><li><span>dotenv.net, 3.2.1</span></li><li><span>Newtonsoft.Json.Schema, 4.0.1</span></li></ul></div></div>"
      ]
     },
     "metadata": {},
     "output_type": "display_data"
    }
   ],
   "source": [
    "#r \"nuget: Newtonsoft.Json.Schema\"\n",
    "#r \"nuget: dotenv.net\""
   ]
  },
  {
   "cell_type": "code",
   "execution_count": 2,
   "metadata": {
    "dotnet_interactive": {
     "language": "csharp"
    },
    "polyglot_notebook": {
     "kernelName": "csharp"
    },
    "vscode": {
     "languageId": "polyglot-notebook"
    }
   },
   "outputs": [],
   "source": [
    "using System;\n",
    "using System.Net.Http;\n",
    "using System.Threading.Tasks;\n",
    "using System.Collections.Generic;\n",
    "using System.Net.Http.Headers;\n",
    "using System.Text.Json;\n",
    "using System.Diagnostics;\n",
    "using dotenv.net;"
   ]
  },
  {
   "cell_type": "code",
   "execution_count": 3,
   "metadata": {
    "dotnet_interactive": {
     "language": "csharp"
    },
    "polyglot_notebook": {
     "kernelName": "csharp"
    },
    "vscode": {
     "languageId": "polyglot-notebook"
    }
   },
   "outputs": [
    {
     "name": "stdout",
     "output_type": "stream",
     "text": [
      "Hello, .NET Interactive in Jupyter!\n"
     ]
    }
   ],
   "source": [
    "Console.WriteLine(\"Hello, .NET Interactive in Jupyter!\");"
   ]
  },
  {
   "cell_type": "code",
   "execution_count": 4,
   "metadata": {
    "dotnet_interactive": {
     "language": "csharp"
    },
    "polyglot_notebook": {
     "kernelName": "csharp"
    },
    "vscode": {
     "languageId": "polyglot-notebook"
    }
   },
   "outputs": [],
   "source": [
    "var assert = (bool condition, string message=\"\") => { if (!condition) throw new Exception(message); };"
   ]
  },
  {
   "cell_type": "code",
   "execution_count": 5,
   "metadata": {
    "vscode": {
     "languageId": "polyglot-notebook"
    }
   },
   "outputs": [],
   "source": [
    "\n",
    "        "
   ]
  },
  {
   "cell_type": "markdown",
   "metadata": {},
   "source": [
    "# Sendungen API"
   ]
  },
  {
   "cell_type": "code",
   "execution_count": 6,
   "metadata": {
    "dotnet_interactive": {
     "language": "csharp"
    },
    "polyglot_notebook": {
     "kernelName": "csharp"
    },
    "vscode": {
     "languageId": "polyglot-notebook"
    }
   },
   "outputs": [],
   "source": [
    "using System;\n",
    "using System.Net.Http;\n",
    "using System.Net.Http.Headers;\n",
    "using System.Threading.Tasks;\n",
    "using Newtonsoft.Json;\n",
    "\n",
    "// Define the AccessToken class if not already defined\n",
    "public class AccessToken\n",
    "{\n",
    "    public string token_type { get; set; }\n",
    "    public int expires_in { get; set; }\n",
    "    public int ext_expires_in { get; set; }\n",
    "    public string access_token { get; set; }\n",
    "}\n",
    "\n",
    "public class TokenService\n",
    "{\n",
    "    private readonly HttpClient _httpClient;\n",
    "\n",
    "    public TokenService()\n",
    "    {\n",
    "        _httpClient = new HttpClient();\n",
    "    }\n",
    "\n",
    "    public async Task<AccessToken> GetAccessTokenAsync()\n",
    "    {\n",
    "        var url = Environment.GetEnvironmentVariable(\"MICROSOFT_AUTH_URL\");\n",
    "        var clientId = Environment.GetEnvironmentVariable(\"CLIENT_ID\");\n",
    "        var sendungenClientSecret = Environment.GetEnvironmentVariable(\"SENDUNGEN_CLIENT_SECRET\");\n",
    "        var sendungenScope = Environment.GetEnvironmentVariable(\"SENDUNGEN_SCOPE\");\n",
    "\n",
    "        var content = new FormUrlEncodedContent(new[]\n",
    "        {\n",
    "            new KeyValuePair<string, string>(\"client_id\", clientId),\n",
    "            new KeyValuePair<string, string>(\"client_secret\", sendungenClientSecret),\n",
    "            new KeyValuePair<string, string>(\"grant_type\", \"client_credentials\"),\n",
    "            new KeyValuePair<string, string>(\"scope\", sendungenScope)\n",
    "        });\n",
    "\n",
    "\n",
    "        // Set headers to align with Postman configuration\n",
    "        _httpClient.DefaultRequestHeaders.Accept.Add(new MediaTypeWithQualityHeaderValue(\"*/*\"));\n",
    "        _httpClient.DefaultRequestHeaders.UserAgent.ParseAdd(\"PostmanRuntime/7.42.0\");\n",
    "        _httpClient.DefaultRequestHeaders.AcceptEncoding.ParseAdd(\"gzip, deflate, br\");\n",
    "        _httpClient.DefaultRequestHeaders.Connection.ParseAdd(\"keep-alive\");\n",
    "\n",
    "        var response = await _httpClient.PostAsync(url, content);\n",
    "\n",
    "        if (!response.IsSuccessStatusCode)\n",
    "        {\n",
    "            throw new Exception($\"Error fetching token: {response.ReasonPhrase}\");\n",
    "        }\n",
    "\n",
    "        var jsonResponse = await response.Content.ReadAsStringAsync();\n",
    "        var accessToken = JsonConvert.DeserializeObject<AccessToken>(jsonResponse);\n",
    "\n",
    "        return accessToken;\n",
    "    }\n",
    "}"
   ]
  },
  {
   "cell_type": "code",
   "execution_count": 7,
   "metadata": {
    "dotnet_interactive": {
     "language": "csharp"
    },
    "polyglot_notebook": {
     "kernelName": "csharp"
    },
    "vscode": {
     "languageId": "polyglot-notebook"
    }
   },
   "outputs": [
    {
     "ename": "Error",
     "evalue": "System.InvalidOperationException: An invalid request URI was provided. Either the request URI must be an absolute URI or BaseAddress must be set.\n   at System.Net.Http.HttpClient.PrepareRequestMessage(HttpRequestMessage request)\n   at System.Net.Http.HttpClient.SendAsync(HttpRequestMessage request, HttpCompletionOption completionOption, CancellationToken cancellationToken)\n   at Submission#6.TokenService.GetAccessTokenAsync()\n   at Submission#7.<<Initialize>>d__0.MoveNext()\n--- End of stack trace from previous location ---\n   at Microsoft.CodeAnalysis.Scripting.ScriptExecutionState.RunSubmissionsAsync[TResult](ImmutableArray`1 precedingExecutors, Func`2 currentExecutor, StrongBox`1 exceptionHolderOpt, Func`2 catchExceptionOpt, CancellationToken cancellationToken)",
     "output_type": "error",
     "traceback": [
      "System.InvalidOperationException: An invalid request URI was provided. Either the request URI must be an absolute URI or BaseAddress must be set.\n",
      "   at System.Net.Http.HttpClient.PrepareRequestMessage(HttpRequestMessage request)\n",
      "   at System.Net.Http.HttpClient.SendAsync(HttpRequestMessage request, HttpCompletionOption completionOption, CancellationToken cancellationToken)\n",
      "   at Submission#6.TokenService.GetAccessTokenAsync()\n",
      "   at Submission#7.<<Initialize>>d__0.MoveNext()\n",
      "--- End of stack trace from previous location ---\n",
      "   at Microsoft.CodeAnalysis.Scripting.ScriptExecutionState.RunSubmissionsAsync[TResult](ImmutableArray`1 precedingExecutors, Func`2 currentExecutor, StrongBox`1 exceptionHolderOpt, Func`2 catchExceptionOpt, CancellationToken cancellationToken)"
     ]
    }
   ],
   "source": [
    "var aa = await new TokenService().GetAccessTokenAsync();"
   ]
  },
  {
   "cell_type": "markdown",
   "metadata": {},
   "source": [
    "# Elfriede API"
   ]
  },
  {
   "cell_type": "code",
   "execution_count": 8,
   "metadata": {
    "dotnet_interactive": {
     "language": "csharp"
    },
    "polyglot_notebook": {
     "kernelName": "csharp"
    },
    "vscode": {
     "languageId": "polyglot-notebook"
    }
   },
   "outputs": [],
   "source": [
    "using System;\n",
    "using System.Net.Http;\n",
    "using System.Net.Http.Headers;\n",
    "using System.Threading.Tasks;\n",
    "using Newtonsoft.Json;\n",
    "\n",
    "public class ElfriedeTokenService\n",
    "{\n",
    "    private readonly HttpClient _httpClient;\n",
    "\n",
    "    public ElfriedeTokenService()\n",
    "    {\n",
    "        _httpClient = new HttpClient();\n",
    "    }\n",
    "\n",
    "    public async Task<AccessToken> GetElfriedeAccessTokenAsync()\n",
    "    {\n",
    "\n",
    "        // Fetch values from environment\n",
    "        var url = Environment.GetEnvironmentVariable(\"MICROSOFT_AUTH_URL\");\n",
    "        var clientId = Environment.GetEnvironmentVariable(\"CLIENT_ID\");\n",
    "        var sendungenClientSecret = Environment.GetEnvironmentVariable(\"SENDUNGEN_CLIENT_SECRET\");\n",
    "        var elfriedeClientSecret = Environment.GetEnvironmentVariable(\"ELFRIEDE_CLIENT_SECRET\");\n",
    "        var sendungenScope = Environment.GetEnvironmentVariable(\"SENDUNGEN_SCOPE\");\n",
    "        var elfriedeScope = Environment.GetEnvironmentVariable(\"ELFRIEDE_SCOPE\");\n",
    "\n",
    "        var content = new FormUrlEncodedContent(new[]\n",
    "        {\n",
    "            new KeyValuePair<string, string>(\"client_id\", clientId),\n",
    "            new KeyValuePair<string, string>(\"client_secret\", elfriedeClientSecret),\n",
    "            new KeyValuePair<string, string>(\"grant_type\", \"client_credentials\"),\n",
    "            new KeyValuePair<string, string>(\"scope\", elfriedeScope)\n",
    "        });\n",
    "\n",
    "        // Setting headers to align with the Postman configuration\n",
    "        _httpClient.DefaultRequestHeaders.Accept.Add(new MediaTypeWithQualityHeaderValue(\"*/*\"));\n",
    "        _httpClient.DefaultRequestHeaders.UserAgent.ParseAdd(\"PostmanRuntime/7.42.0\");\n",
    "        _httpClient.DefaultRequestHeaders.AcceptEncoding.ParseAdd(\"gzip, deflate, br\");\n",
    "        _httpClient.DefaultRequestHeaders.Connection.ParseAdd(\"keep-alive\");\n",
    "\n",
    "        var response = await _httpClient.PostAsync(url, content);\n",
    "\n",
    "        if (!response.IsSuccessStatusCode)\n",
    "        {\n",
    "            throw new Exception($\"Error fetching token: {response.ReasonPhrase}\");\n",
    "        }\n",
    "\n",
    "        var jsonResponse = await response.Content.ReadAsStringAsync();\n",
    "        var accessToken = JsonConvert.DeserializeObject<AccessToken>(jsonResponse);\n",
    "\n",
    "        return accessToken;\n",
    "    }\n",
    "}\n",
    "\n",
    "public class AccessToken\n",
    "{\n",
    "    public string token_type { get; set; }\n",
    "    public int expires_in { get; set; }\n",
    "    public int ext_expires_in { get; set; }\n",
    "    public string access_token { get; set; }\n",
    "}"
   ]
  },
  {
   "cell_type": "code",
   "execution_count": 9,
   "metadata": {
    "dotnet_interactive": {
     "language": "csharp"
    },
    "polyglot_notebook": {
     "kernelName": "csharp"
    },
    "vscode": {
     "languageId": "polyglot-notebook"
    }
   },
   "outputs": [
    {
     "ename": "Error",
     "evalue": "System.InvalidOperationException: An invalid request URI was provided. Either the request URI must be an absolute URI or BaseAddress must be set.\n   at System.Net.Http.HttpClient.PrepareRequestMessage(HttpRequestMessage request)\n   at System.Net.Http.HttpClient.SendAsync(HttpRequestMessage request, HttpCompletionOption completionOption, CancellationToken cancellationToken)\n   at Submission#8.ElfriedeTokenService.GetElfriedeAccessTokenAsync()\n   at Submission#9.<<Initialize>>d__0.MoveNext()\n--- End of stack trace from previous location ---\n   at Microsoft.CodeAnalysis.Scripting.ScriptExecutionState.RunSubmissionsAsync[TResult](ImmutableArray`1 precedingExecutors, Func`2 currentExecutor, StrongBox`1 exceptionHolderOpt, Func`2 catchExceptionOpt, CancellationToken cancellationToken)",
     "output_type": "error",
     "traceback": [
      "System.InvalidOperationException: An invalid request URI was provided. Either the request URI must be an absolute URI or BaseAddress must be set.\n",
      "   at System.Net.Http.HttpClient.PrepareRequestMessage(HttpRequestMessage request)\n",
      "   at System.Net.Http.HttpClient.SendAsync(HttpRequestMessage request, HttpCompletionOption completionOption, CancellationToken cancellationToken)\n",
      "   at Submission#8.ElfriedeTokenService.GetElfriedeAccessTokenAsync()\n",
      "   at Submission#9.<<Initialize>>d__0.MoveNext()\n",
      "--- End of stack trace from previous location ---\n",
      "   at Microsoft.CodeAnalysis.Scripting.ScriptExecutionState.RunSubmissionsAsync[TResult](ImmutableArray`1 precedingExecutors, Func`2 currentExecutor, StrongBox`1 exceptionHolderOpt, Func`2 catchExceptionOpt, CancellationToken cancellationToken)"
     ]
    }
   ],
   "source": [
    "// var options = new JsonSerializerOptions\n",
    "// {\n",
    "//     PropertyNameCaseInsensitive = true, // Allows matching property names irrespective of their casing\n",
    "//     PropertyNamingPolicy = JsonNamingPolicy.CamelCase // Configures the naming policy to handle camelCase\n",
    "// };\n",
    "var tokenService = new ElfriedeTokenService();\n",
    "var accessToken = await tokenService.GetElfriedeAccessTokenAsync();\n",
    "\n",
    "Console.WriteLine($\"Token Type: {accessToken.token_type}\");\n",
    "Console.WriteLine($\"Access Token: {accessToken.access_token}\");"
   ]
  },
  {
   "cell_type": "code",
   "execution_count": 10,
   "metadata": {
    "dotnet_interactive": {
     "language": "csharp"
    },
    "polyglot_notebook": {
     "kernelName": "csharp"
    },
    "vscode": {
     "languageId": "polyglot-notebook"
    }
   },
   "outputs": [],
   "source": [
    "public static async Task<string> CallCreateUserEndpointAsync(AccessToken accessToken, string apiUri, int level, bool completeDoi)\n",
    "{\n",
    "    using var httpClient = new HttpClient();\n",
    "\n",
    "    // Define the full endpoint URL with query parameters\n",
    "    var apiEndpoint = $\"{apiUri}/api/SsoUser?level={level}&completeDoi={completeDoi.ToString().ToLower()}\";\n",
    "\n",
    "    // Set the Authorization header with the acquired access token\n",
    "    httpClient.DefaultRequestHeaders.Authorization = new AuthenticationHeaderValue(accessToken.token_type, accessToken.access_token);\n",
    "\n",
    "    try\n",
    "    {\n",
    "        // Send the POST request to the specified endpoint\n",
    "        var response = await httpClient.PostAsync(apiEndpoint, null);\n",
    "\n",
    "        // Check if the response was successful\n",
    "        if (response.IsSuccessStatusCode)\n",
    "        {\n",
    "            var apiResponseContent = await response.Content.ReadAsStringAsync();\n",
    "            Console.WriteLine(\"API call succeeded. Response:\");\n",
    "            Console.WriteLine(apiResponseContent);\n",
    "            return apiResponseContent;\n",
    "        }\n",
    "        else\n",
    "        {\n",
    "            Console.WriteLine($\"API call failed with status code: {response.StatusCode}\");\n",
    "            var errorContent = await response.Content.ReadAsStringAsync();\n",
    "            throw new Exception($\"Error response: {errorContent}\");\n",
    "        }\n",
    "    }\n",
    "    catch (Exception ex)\n",
    "    {\n",
    "        throw new Exception($\"An error occurred while calling the API: {ex.Message}\");\n",
    "    }\n",
    "}"
   ]
  },
  {
   "cell_type": "code",
   "execution_count": 11,
   "metadata": {
    "dotnet_interactive": {
     "language": "csharp"
    },
    "polyglot_notebook": {
     "kernelName": "csharp"
    },
    "vscode": {
     "languageId": "polyglot-notebook"
    }
   },
   "outputs": [],
   "source": [
    "string apiUri = \"https://elfriede-api.test.shared-k8s.postag.intern\"; // Replace with your actual API URI\n",
    "int level = 90; // Set the level value as required\n",
    "bool completeDoi = false; // Set the completeDoi value as required"
   ]
  },
  {
   "cell_type": "code",
   "execution_count": 12,
   "metadata": {
    "dotnet_interactive": {
     "language": "csharp"
    },
    "polyglot_notebook": {
     "kernelName": "csharp"
    },
    "vscode": {
     "languageId": "polyglot-notebook"
    }
   },
   "outputs": [
    {
     "ename": "Error",
     "evalue": "System.NullReferenceException: Object reference not set to an instance of an object.\n   at Submission#10.<CallCreateUserEndpointAsync>d__1.MoveNext()\n--- End of stack trace from previous location ---\n   at Submission#12.<<Initialize>>d__0.MoveNext()\n--- End of stack trace from previous location ---\n   at Microsoft.CodeAnalysis.Scripting.ScriptExecutionState.RunSubmissionsAsync[TResult](ImmutableArray`1 precedingExecutors, Func`2 currentExecutor, StrongBox`1 exceptionHolderOpt, Func`2 catchExceptionOpt, CancellationToken cancellationToken)",
     "output_type": "error",
     "traceback": [
      "System.NullReferenceException: Object reference not set to an instance of an object.\n",
      "   at Submission#10.<CallCreateUserEndpointAsync>d__1.MoveNext()\n",
      "--- End of stack trace from previous location ---\n",
      "   at Submission#12.<<Initialize>>d__0.MoveNext()\n",
      "--- End of stack trace from previous location ---\n",
      "   at Microsoft.CodeAnalysis.Scripting.ScriptExecutionState.RunSubmissionsAsync[TResult](ImmutableArray`1 precedingExecutors, Func`2 currentExecutor, StrongBox`1 exceptionHolderOpt, Func`2 catchExceptionOpt, CancellationToken cancellationToken)"
     ]
    }
   ],
   "source": [
    "// Execute the function and display the response\n",
    "var response = await CallCreateUserEndpointAsync(accessToken, apiUri, level, completeDoi);\n",
    "Console.WriteLine(response);"
   ]
  },
  {
   "cell_type": "code",
   "execution_count": 13,
   "metadata": {
    "dotnet_interactive": {
     "language": "csharp"
    },
    "polyglot_notebook": {
     "kernelName": "csharp"
    },
    "vscode": {
     "languageId": "polyglot-notebook"
    }
   },
   "outputs": [],
   "source": [
    "// Define the API endpoint URL and access token obtained earlier\n",
    "const string apiUri = \"https://elfriede-api.test.shared-k8s.postag.intern\"; // Replace with your specific endpoint if needed\n",
    "const string apiEndpoint = $\"{apiUri}/api/SsoUser?username=Sahra.Tuschmo@example.com\"; // Example endpoint"
   ]
  },
  {
   "cell_type": "code",
   "execution_count": 14,
   "metadata": {
    "dotnet_interactive": {
     "language": "csharp"
    },
    "polyglot_notebook": {
     "kernelName": "csharp"
    },
    "vscode": {
     "languageId": "polyglot-notebook"
    }
   },
   "outputs": [
    {
     "ename": "Error",
     "evalue": "System.NullReferenceException: Object reference not set to an instance of an object.\n   at Submission#14.<CallApiAsync>d__1.MoveNext()\n--- End of stack trace from previous location ---\n   at Submission#14.<<Initialize>>d__0.MoveNext()\n--- End of stack trace from previous location ---\n   at Microsoft.CodeAnalysis.Scripting.ScriptExecutionState.RunSubmissionsAsync[TResult](ImmutableArray`1 precedingExecutors, Func`2 currentExecutor, StrongBox`1 exceptionHolderOpt, Func`2 catchExceptionOpt, CancellationToken cancellationToken)",
     "output_type": "error",
     "traceback": [
      "System.NullReferenceException: Object reference not set to an instance of an object.\n",
      "   at Submission#14.<CallApiAsync>d__1.MoveNext()\n",
      "--- End of stack trace from previous location ---\n",
      "   at Submission#14.<<Initialize>>d__0.MoveNext()\n",
      "--- End of stack trace from previous location ---\n",
      "   at Microsoft.CodeAnalysis.Scripting.ScriptExecutionState.RunSubmissionsAsync[TResult](ImmutableArray`1 precedingExecutors, Func`2 currentExecutor, StrongBox`1 exceptionHolderOpt, Func`2 catchExceptionOpt, CancellationToken cancellationToken)"
     ]
    }
   ],
   "source": [
    "// Function to call the API using the access token\n",
    "async Task<string> CallApiAsync(AccessToken accessToken)\n",
    "{\n",
    "    using var httpClient = new HttpClient();\n",
    "\n",
    "    // Set the Authorization header with the acquired access token\n",
    "    httpClient.DefaultRequestHeaders.Authorization = new AuthenticationHeaderValue(accessToken.token_type, accessToken.access_token);\n",
    "\n",
    "    try\n",
    "    {\n",
    "        // Send the GET request to the specified endpoint\n",
    "        var response = await httpClient.GetAsync(apiEndpoint);\n",
    "\n",
    "        // Check if the response was successful\n",
    "        if (response.IsSuccessStatusCode)\n",
    "        {\n",
    "            var apiResponseContent = await response.Content.ReadAsStringAsync();\n",
    "            Console.WriteLine(\"API call succeeded. Response:\");\n",
    "            Console.WriteLine(apiResponseContent);\n",
    "            return apiResponseContent;\n",
    "        }\n",
    "        else\n",
    "        {\n",
    "            Console.WriteLine($\"API call failed with status code: {response.StatusCode}\");\n",
    "            var errorContent = await response.Content.ReadAsStringAsync();\n",
    "            throw new Exception($\"Error response: {errorContent}\");\n",
    "        }\n",
    "    }\n",
    "    catch (Exception ex)\n",
    "    {\n",
    "        throw new Exception($\"An error occurred while calling the API: {ex.Message}\");\n",
    "    }\n",
    "}\n",
    "\n",
    "// Execute the function with the acquired access token\n",
    "var res = await CallApiAsync(accessToken: accessToken); // Replace \"your-access-token-here\" with the actual access token string from the previous step\n",
    "res"
   ]
  },
  {
   "cell_type": "code",
   "execution_count": 15,
   "metadata": {
    "dotnet_interactive": {
     "language": "csharp"
    },
    "polyglot_notebook": {
     "kernelName": "csharp"
    },
    "vscode": {
     "languageId": "polyglot-notebook"
    }
   },
   "outputs": [],
   "source": []
  }
 ],
 "metadata": {
  "kernelspec": {
   "display_name": ".NET (C#)",
   "language": "C#",
   "name": ".net-csharp"
  },
  "language_info": {
   "file_extension": ".cs",
   "mimetype": "text/x-csharp",
   "name": "C#",
   "pygments_lexer": "csharp",
   "version": "12.0"
  },
  "polyglot_notebook": {
   "kernelInfo": {
    "defaultKernelName": "csharp",
    "items": [
     {
      "aliases": [],
      "name": "csharp"
     }
    ]
   }
  }
 },
 "nbformat": 4,
 "nbformat_minor": 2
}
